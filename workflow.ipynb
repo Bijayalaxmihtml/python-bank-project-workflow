{
 "cells": [
  {
   "metadata": {},
   "cell_type": "markdown",
   "source": [
    "1 pytest\n",
    "- Använt de två csv för att kunna köra testarna\n",
    "- Har tagit kolumn tabeller från csv och gjorde testerna som exempelvis\n",
    "- def test_timestamp():\n",
    "   timestamp= \"2025-03-06 12:04:00\"\n",
    "   return timestamp\n",
    "\n",
    "\n",
    "2 Validation\n",
    "- Har använt både två csv för att göra validation\n",
    "- Har tagit specifika kolumn tabeller för att kunna skapa validation som kallas för\n",
    "- Account , Customer och Transaction\n",
    "\n",
    "\n",
    "3 clean_data.py\n",
    "- Vi har använt transaction csv för att clean datan\n",
    "- vi har använt tabellen timestamp för att korrekta datum som var korrupt\n",
    "- efter vi har kört koden får man upp den clean filen som kallas för clean_transaction.csv"
   ],
   "id": "6f2d3ee9a5c5c4ba"
  },
  {
   "metadata": {},
   "cell_type": "code",
   "outputs": [],
   "execution_count": null,
   "source": "",
   "id": "7865a0b5cc2f7d5c"
  }
 ],
 "metadata": {
  "kernelspec": {
   "display_name": "Python 3",
   "language": "python",
   "name": "python3"
  },
  "language_info": {
   "codemirror_mode": {
    "name": "ipython",
    "version": 2
   },
   "file_extension": ".py",
   "mimetype": "text/x-python",
   "name": "python",
   "nbconvert_exporter": "python",
   "pygments_lexer": "ipython2",
   "version": "2.7.6"
  }
 },
 "nbformat": 4,
 "nbformat_minor": 5
}
